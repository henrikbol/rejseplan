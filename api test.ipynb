{
 "cells": [
  {
   "cell_type": "code",
   "execution_count": 1,
   "id": "6dc9ab03-4d66-49a6-811a-85d1b90f638c",
   "metadata": {},
   "outputs": [],
   "source": [
    "import requests"
   ]
  },
  {
   "cell_type": "code",
   "execution_count": 107,
   "id": "8e9cc848-f2e7-4696-82d9-5621e44c4e74",
   "metadata": {},
   "outputs": [],
   "source": [
    "import pandas as pd\n",
    "import rjpl\n",
    "\n",
    "dep = rjpl.departureBoard(8600675) # Lyngby\n",
    "# dep = rjpl.departureBoard(8600642) # NørreBro\n",
    "# dep = rjpl.departureBoard(8600646) # Nørreport\n",
    "#dep = rjpl.departureBoard(8600626, useBus=False)  # København H\n",
    "\n",
    "df = pd.json_normalize(dep)"
   ]
  },
  {
   "cell_type": "code",
   "execution_count": 112,
   "id": "e74d3cf1-507b-4495-9de6-613b065f9d39",
   "metadata": {},
   "outputs": [
    {
     "data": {
      "text/plain": [
       "'Lyngby St.'"
      ]
     },
     "execution_count": 112,
     "metadata": {},
     "output_type": "execute_result"
    }
   ],
   "source": [
    "df.loc[0, \"stop\"]"
   ]
  },
  {
   "cell_type": "code",
   "execution_count": 104,
   "id": "a66e8f2a-a842-4d0e-8360-ab6697d86087",
   "metadata": {},
   "outputs": [],
   "source": [
    "df = df[df[\"type\"].isin([\"S\", \"M\", \"REG\", \"IC\"])][[\n",
    "        \"name\",\n",
    "        \"finalStop\",\n",
    "        \"time\",\n",
    "#        \"rtTime\"\n",
    "]]"
   ]
  },
  {
   "cell_type": "code",
   "execution_count": 116,
   "id": "b2dcba3f-1f34-43b3-98f7-06d073fc80ac",
   "metadata": {},
   "outputs": [],
   "source": [
    "from datetime import datetime, timezone\n",
    "\n",
    "utc_dt = datetime.now(timezone.utc) # UTC time\n",
    "dt = utc_dt.astimezone() # local time\n"
   ]
  },
  {
   "cell_type": "code",
   "execution_count": 119,
   "id": "ccb4db0c-1abc-4842-967f-27d7678e922f",
   "metadata": {},
   "outputs": [
    {
     "data": {
      "text/plain": [
       "'19:25:28'"
      ]
     },
     "execution_count": 119,
     "metadata": {},
     "output_type": "execute_result"
    }
   ],
   "source": [
    "dt.strftime(\"%H:%M:%S\")"
   ]
  },
  {
   "cell_type": "code",
   "execution_count": 124,
   "id": "ecbc4736-8d6f-4ff4-bf85-a7d4805e605a",
   "metadata": {},
   "outputs": [],
   "source": [
    "df.style.set_table_attributes('class=\"table100\"').to_html(index=False);"
   ]
  },
  {
   "cell_type": "code",
   "execution_count": null,
   "id": "139f8d8f-b802-4e49-9097-afca5c3755c1",
   "metadata": {},
   "outputs": [],
   "source": []
  },
  {
   "cell_type": "code",
   "execution_count": 125,
   "id": "be1268ec-2105-49a4-a7ed-40f4c543ea1d",
   "metadata": {},
   "outputs": [
    {
     "data": {
      "text/plain": [
       "{'noNamespaceSchemaLocation': 'http://webapp.rejseplanen.dk/xml/rest/hafasRestLocation.xsd',\n",
       " 'StopLocation': [{'name': 'Lyngby St.',\n",
       "   'x': '12503105',\n",
       "   'y': '55768088',\n",
       "   'id': '008600675'},\n",
       "  {'name': 'Lyngby St. (Jernbanepladsen)',\n",
       "   'x': '12505424',\n",
       "   'y': '55768043',\n",
       "   'id': '000053654'},\n",
       "  {'name': 'Lyngby St. (Gammel Jernbanevej)',\n",
       "   'x': '12504301',\n",
       "   'y': '55768529',\n",
       "   'id': '000053653'},\n",
       "  {'name': 'Lyngby Lokal St.',\n",
       "   'x': '12506054',\n",
       "   'y': '55773922',\n",
       "   'id': '008623007'},\n",
       "  {'name': 'Lyngby Lokal St. (Kanalvej)',\n",
       "   'x': '12505811',\n",
       "   'y': '55773248',\n",
       "   'id': '000000640'},\n",
       "  {'name': 'Store Lyngby, Skævingevej (St. Lyngbyvej)',\n",
       "   'x': '12119976',\n",
       "   'y': '55936294',\n",
       "   'id': '000008851'},\n",
       "  {'name': 'Store Lyngby, Tammosevej (St. Lyngbyvej)',\n",
       "   'x': '12125307',\n",
       "   'y': '55936663',\n",
       "   'id': '000008850'},\n",
       "  {'name': 'Lyngby Storcenter (Klampenborgvej)',\n",
       "   'x': '12505083',\n",
       "   'y': '55770794',\n",
       "   'id': '000000616'},\n",
       "  {'name': 'Lyngby Skov (Amtsvejen)',\n",
       "   'x': '12094393',\n",
       "   'y': '55933634',\n",
       "   'id': '000010580'},\n",
       "  {'name': 'Lyngby Svømmehal (Lundtoftevej)',\n",
       "   'x': '12509344',\n",
       "   'y': '55780053',\n",
       "   'id': '000000500'},\n",
       "  {'name': 'Lyngby (Norddjurs Kom)',\n",
       "   'x': '10745112',\n",
       "   'y': '56367696',\n",
       "   'id': '707100509'},\n",
       "  {'name': 'Lyngby Handelsskole U/NORD (Anker Engelunds Vej)',\n",
       "   'x': '12514800',\n",
       "   'y': '55786390',\n",
       "   'id': '000053591'},\n",
       "  {'name': 'Lyngby Handelsskole U/NORD (Lundtoftevej)',\n",
       "   'x': '12513901',\n",
       "   'y': '55785473',\n",
       "   'id': '000000498'},\n",
       "  {'name': 'Lyngby Kirke (Lyngby Hovedgade)',\n",
       "   'x': '12499725',\n",
       "   'y': '55773293',\n",
       "   'id': '000010399'},\n",
       "  {'name': 'Lyngby Mølle (Lyngby Hovedgade)',\n",
       "   'x': '12497748',\n",
       "   'y': '55775082',\n",
       "   'id': '000000172'},\n",
       "  {'name': 'Lyngby (Aalborgvej / Rebild Kommune)',\n",
       "   'x': '10039593',\n",
       "   'y': '56843827',\n",
       "   'id': '843000204'},\n",
       "  {'name': 'Lyngby Hovedgade (Nørgaardsvej)',\n",
       "   'x': '12507177',\n",
       "   'y': '55769796',\n",
       "   'id': '000054420'},\n",
       "  {'name': 'Lyngby Mølle Feriecenter (Lyngbyvej / Hjørring K.)',\n",
       "   'x': '9747031',\n",
       "   'y': '57412161',\n",
       "   'id': '829001402'},\n",
       "  {'name': 'Ryparken St. (Lyngbyvej)',\n",
       "   'x': '12558856',\n",
       "   'y': '55715403',\n",
       "   'id': '000006660'},\n",
       "  {'name': 'Bremerholm (St. Lyngbyvej)',\n",
       "   'x': '12114978',\n",
       "   'y': '55936106',\n",
       "   'id': '000008852'},\n",
       "  {'name': 'Vibenshus Runddel St. (Lyngbyvej)',\n",
       "   'x': '12562902',\n",
       "   'y': '55706090',\n",
       "   'id': '000001367'},\n",
       "  {'name': 'Lyngs St.', 'x': '8450588', 'y': '56664511', 'id': '008600395'},\n",
       "  {'name': 'Lyngbyvej (Emdrupvej)',\n",
       "   'x': '12555297',\n",
       "   'y': '55718639',\n",
       "   'id': '000002831'},\n",
       "  {'name': 'Lyngbyvej (Sejrøgade)',\n",
       "   'x': '12561607',\n",
       "   'y': '55710054',\n",
       "   'id': '000053732'},\n",
       "  {'name': 'Lyngbyvej (Tuborgvej)',\n",
       "   'x': '12552429',\n",
       "   'y': '55727583',\n",
       "   'id': '000007171'}],\n",
       " 'CoordLocation': [{'name': 'Lyngbyvej St Brøndum, 9520 Skørping, Rebild Kommun',\n",
       "   'x': '10002315',\n",
       "   'y': '56843495',\n",
       "   'type': 'ADR'},\n",
       "  {'name': 'St. Lyngby IF 24. Kreds, Anden bygning, Hillerød K',\n",
       "   'x': '12151816',\n",
       "   'y': '55936726',\n",
       "   'type': 'POI'},\n",
       "  {'name': 'Lyngby Storcenter, Anden bygning, Lyngby-Taarbæk K',\n",
       "   'x': '12505973',\n",
       "   'y': '55772062',\n",
       "   'type': 'POI'},\n",
       "  {'name': 'Lyngby Storcenter 2800 Kongens Lyngby, Lyngby-Taar',\n",
       "   'x': '12504939',\n",
       "   'y': '55772547',\n",
       "   'type': 'ADR'},\n",
       "  {'name': 'Lyngby Stadion, Stadion, Lyngby-Taarbæk Kommune',\n",
       "   'x': '12505676',\n",
       "   'y': '55780943',\n",
       "   'type': 'POI'},\n",
       "  {'name': 'Lyngby Skov, Skov/plantage, Hillerød Kommune',\n",
       "   'x': '12093323',\n",
       "   'y': '55927809',\n",
       "   'type': 'POI'},\n",
       "  {'name': 'Lyngby Hovedgade 2800 Kongens Lyngby, Lyngby-Taarb',\n",
       "   'x': '12504076',\n",
       "   'y': '55769931',\n",
       "   'type': 'ADR'},\n",
       "  {'name': 'Lyngby Torv 2800 Kongens Lyngby, Lyngby-Taarbæk Ko',\n",
       "   'x': '12502800',\n",
       "   'y': '55769850',\n",
       "   'type': 'ADR'},\n",
       "  {'name': 'Lyngby Private Skole, Privatskole friskole, Lyngby',\n",
       "   'x': '12502242',\n",
       "   'y': '55771217',\n",
       "   'type': 'POI'},\n",
       "  {'name': 'Lyngby Frikirke, Kirke, Lyngby-Taarbæk Kommune',\n",
       "   'x': '12504786',\n",
       "   'y': '55773392',\n",
       "   'type': 'POI'},\n",
       "  {'name': 'Lyngby Forsamlingshus, Anden bygning, Norddjurs Ko',\n",
       "   'x': '10747054',\n",
       "   'y': '56368415',\n",
       "   'type': 'POI'},\n",
       "  {'name': 'Lyngby Kirke, Kirke, Norddjurs Kommune',\n",
       "   'x': '10748150',\n",
       "   'y': '56367606',\n",
       "   'type': 'POI'},\n",
       "  {'name': 'Lyngby Kirkegård, Begravelsesplads , Norddjurs Kom',\n",
       "   'x': '10749067',\n",
       "   'y': '56367633',\n",
       "   'type': 'POI'},\n",
       "  {'name': 'Lyngby Gamle Kirkegård, Begravelsesplads , Lyngby-',\n",
       "   'x': '12499959',\n",
       "   'y': '55773751',\n",
       "   'type': 'POI'},\n",
       "  {'name': 'Lyngby Kirke, Kirke, Lyngby-Taarbæk Kommune',\n",
       "   'x': '12500400',\n",
       "   'y': '55773500',\n",
       "   'type': 'POI'},\n",
       "  {'name': 'Lyngby Kirkestræde 2800 Kongens Lyngby, Lyngby-Taa',\n",
       "   'x': '12500939',\n",
       "   'y': '55773841',\n",
       "   'type': 'ADR'},\n",
       "  {'name': 'Lyngby Handelsskole, Fagskole, Lyngby-Taarbæk Komm',\n",
       "   'x': '12512930',\n",
       "   'y': '55785455',\n",
       "   'type': 'POI'},\n",
       "  {'name': 'Lyngby Radio, Anden bygning, Gladsaxe Kommune',\n",
       "   'x': '12475158',\n",
       "   'y': '55765967',\n",
       "   'type': 'POI'},\n",
       "  {'name': 'Lyngby Rosenvænge 2800 Kongens Lyngby, Lyngby-Taar',\n",
       "   'x': '12498719',\n",
       "   'y': '55762758',\n",
       "   'type': 'ADR'},\n",
       "  {'name': 'Lyngby Idrætsby, Stadion, Lyngby-Taarbæk Kommune',\n",
       "   'x': '12506764',\n",
       "   'y': '55785096',\n",
       "   'type': 'POI'},\n",
       "  {'name': 'Lyngby Baptistkirke, Kirke, Lyngby-Taarbæk Kommune',\n",
       "   'x': '12495303',\n",
       "   'y': '55768736',\n",
       "   'type': 'POI'},\n",
       "  {'name': 'Lyngby Friskole, Privatskole friskole, Lyngby-Taar',\n",
       "   'x': '12493100',\n",
       "   'y': '55767801',\n",
       "   'type': 'POI'},\n",
       "  {'name': 'Lyngby Kirke, Kirke, Rebild Kommune',\n",
       "   'x': '10043351',\n",
       "   'y': '56843791',\n",
       "   'type': 'POI'},\n",
       "  {'name': 'Lyngby Kirkegård, Begravelsesplads , Rebild Kommun',\n",
       "   'x': '10042964',\n",
       "   'y': '56843890',\n",
       "   'type': 'POI'},\n",
       "  {'name': 'Lyngby Fort, Anden seværdighed, Lyngby-Taarbæk Kom',\n",
       "   'x': '12490781',\n",
       "   'y': '55761274',\n",
       "   'type': 'POI'}]}"
      ]
     },
     "execution_count": 125,
     "metadata": {},
     "output_type": "execute_result"
    }
   ],
   "source": [
    "rjpl.location(\"Lyngby St\")"
   ]
  },
  {
   "cell_type": "code",
   "execution_count": null,
   "id": "0ae9eec0-aead-422f-bd56-15769ecb4376",
   "metadata": {},
   "outputs": [],
   "source": []
  }
 ],
 "metadata": {
  "kernelspec": {
   "display_name": "Python [conda env:myenv] *",
   "language": "python",
   "name": "conda-env-myenv-py"
  },
  "language_info": {
   "codemirror_mode": {
    "name": "ipython",
    "version": 3
   },
   "file_extension": ".py",
   "mimetype": "text/x-python",
   "name": "python",
   "nbconvert_exporter": "python",
   "pygments_lexer": "ipython3",
   "version": "3.9.7"
  }
 },
 "nbformat": 4,
 "nbformat_minor": 5
}
